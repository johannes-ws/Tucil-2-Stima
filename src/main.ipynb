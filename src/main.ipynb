{
 "cells": [
  {
   "cell_type": "code",
   "execution_count": 1,
   "metadata": {},
   "outputs": [],
   "source": [
    "import numpy as np\n",
    "import pandas as pd\n",
    "import matplotlib.pyplot as plt\n",
    "\n",
    "from sklearn import datasets\n",
    "data = datasets.load_iris()\n",
    "\n",
    "#create a DataFrame\n",
    "df = pd.DataFrame(data.data, columns=data.feature_names)\n",
    "df['Target'] = pd.DataFrame(data.target)"
   ]
  },
  {
   "cell_type": "code",
   "execution_count": 2,
   "metadata": {},
   "outputs": [
    {
     "name": "stdout",
     "output_type": "stream",
     "text": [
      "(150, 5)\n"
     ]
    }
   ],
   "source": [
    "print(df.shape)"
   ]
  },
  {
   "cell_type": "code",
   "execution_count": 3,
   "metadata": {},
   "outputs": [
    {
     "data": {
      "text/html": [
       "<div>\n",
       "<style scoped>\n",
       "    .dataframe tbody tr th:only-of-type {\n",
       "        vertical-align: middle;\n",
       "    }\n",
       "\n",
       "    .dataframe tbody tr th {\n",
       "        vertical-align: top;\n",
       "    }\n",
       "\n",
       "    .dataframe thead th {\n",
       "        text-align: right;\n",
       "    }\n",
       "</style>\n",
       "<table border=\"1\" class=\"dataframe\">\n",
       "  <thead>\n",
       "    <tr style=\"text-align: right;\">\n",
       "      <th></th>\n",
       "      <th>sepal length (cm)</th>\n",
       "      <th>sepal width (cm)</th>\n",
       "      <th>petal length (cm)</th>\n",
       "      <th>petal width (cm)</th>\n",
       "      <th>Target</th>\n",
       "    </tr>\n",
       "  </thead>\n",
       "  <tbody>\n",
       "    <tr>\n",
       "      <th>0</th>\n",
       "      <td>5.1</td>\n",
       "      <td>3.5</td>\n",
       "      <td>1.4</td>\n",
       "      <td>0.2</td>\n",
       "      <td>0</td>\n",
       "    </tr>\n",
       "    <tr>\n",
       "      <th>1</th>\n",
       "      <td>4.9</td>\n",
       "      <td>3.0</td>\n",
       "      <td>1.4</td>\n",
       "      <td>0.2</td>\n",
       "      <td>0</td>\n",
       "    </tr>\n",
       "    <tr>\n",
       "      <th>2</th>\n",
       "      <td>4.7</td>\n",
       "      <td>3.2</td>\n",
       "      <td>1.3</td>\n",
       "      <td>0.2</td>\n",
       "      <td>0</td>\n",
       "    </tr>\n",
       "    <tr>\n",
       "      <th>3</th>\n",
       "      <td>4.6</td>\n",
       "      <td>3.1</td>\n",
       "      <td>1.5</td>\n",
       "      <td>0.2</td>\n",
       "      <td>0</td>\n",
       "    </tr>\n",
       "    <tr>\n",
       "      <th>4</th>\n",
       "      <td>5.0</td>\n",
       "      <td>3.6</td>\n",
       "      <td>1.4</td>\n",
       "      <td>0.2</td>\n",
       "      <td>0</td>\n",
       "    </tr>\n",
       "  </tbody>\n",
       "</table>\n",
       "</div>"
      ],
      "text/plain": [
       "   sepal length (cm)  sepal width (cm)  petal length (cm)  petal width (cm)  \\\n",
       "0                5.1               3.5                1.4               0.2   \n",
       "1                4.9               3.0                1.4               0.2   \n",
       "2                4.7               3.2                1.3               0.2   \n",
       "3                4.6               3.1                1.5               0.2   \n",
       "4                5.0               3.6                1.4               0.2   \n",
       "\n",
       "   Target  \n",
       "0       0  \n",
       "1       0  \n",
       "2       0  \n",
       "3       0  \n",
       "4       0  "
      ]
     },
     "execution_count": 3,
     "metadata": {},
     "output_type": "execute_result"
    }
   ],
   "source": [
    "df.head()"
   ]
  },
  {
   "cell_type": "code",
   "execution_count": 4,
   "metadata": {},
   "outputs": [
    {
     "data": {
      "text/plain": [
       "<matplotlib.legend.Legend at 0x15333ce4040>"
      ]
     },
     "execution_count": 4,
     "metadata": {},
     "output_type": "execute_result"
    },
    {
     "data": {
      "image/png": "[encoded data removed]",
      "text/plain": [
       "<Figure size 720x432 with 1 Axes>"
      ]
     },
     "metadata": {
      "needs_background": "light"
     },
     "output_type": "display_data"
    }
   ],
   "source": [
    "#visualisasi hasil ConvexHull\n",
    "import matplotlib.pyplot as plt\n",
    "from scipy import linalg\n",
    "import myConvexHull\n",
    "\n",
    "plt.figure(figsize = (10, 6))\n",
    "colors = ['b','r','g']\n",
    "plt.title('Petal Width vs Petal Length')\n",
    "plt.xlabel(data.feature_names[0])\n",
    "plt.ylabel(data.feature_names[1])\n",
    "for i in range(len(data.target_names)):\n",
    "    k = i\n",
    "    bucket = df[df['Target'] == i]\n",
    "    bucket = bucket.iloc[:,[0,1]].values\n",
    "    plt.scatter(bucket[:, 0], bucket[:, 1], label=data.target_names[i])\n",
    "\n",
    "    jarakmax2titik = 0\n",
    "    titik1 = bucket[0]\n",
    "    titik2 = bucket[0]\n",
    "    for i in range(len(bucket)):\n",
    "        for j in range(len(bucket)):\n",
    "            jarak2titik = myConvexHull.jarak2titik(bucket[i], bucket[j])\n",
    "            if (jarak2titik >= jarakmax2titik):\n",
    "                jarakmax2titik = jarak2titik\n",
    "                titik1 = bucket[i]\n",
    "                titik2 = bucket[j]\n",
    "\n",
    "    bagian1 = []\n",
    "    bagian2 = []\n",
    "    for i in range(len(bucket)):\n",
    "        if (myConvexHull.kiriatas(titik1, titik2, bucket[i])):\n",
    "            bagian1.append(bucket[i])\n",
    "        elif (myConvexHull.kananbawah(titik1, titik2, bucket[i])):\n",
    "            bagian2.append(bucket[i])\n",
    "\n",
    "    hull = []\n",
    "    if (len(bagian1) == 0):\n",
    "        hull.append((titik1, titik2))\n",
    "    elif (len(bagian1) == 1):\n",
    "        hull.append((titik1, bagian1[0]))\n",
    "        hull.append((bagian1[0], titik2))\n",
    "    else:\n",
    "        jarakmaxtitikkegaris = 0\n",
    "        titiksampel = bagian1[0]\n",
    "        for i in range(len(bagian1)):\n",
    "            jaraktitikkegaris = linalg.norm(np.cross(titik2-titik1, titik1-bagian1[i])) / linalg.norm(titik2-titik1)\n",
    "            if (jaraktitikkegaris >= jarakmaxtitikkegaris):\n",
    "                jarakmaxtitikkegaris = jaraktitikkegaris\n",
    "                titiksampel = bagian1[i]\n",
    "\n",
    "        bagian1part1 = []\n",
    "        bagian1part2 = []\n",
    "        for i in range(len(bagian1)):\n",
    "            if (myConvexHull.kiriatas(titik1, titiksampel, bagian1[i])):\n",
    "                bagian1part1.append(bagian1[i])\n",
    "            if (myConvexHull.kananbawah(titiksampel, titik2, bagian1[i])):\n",
    "                bagian1part2.append(bagian1[i])\n",
    "\n",
    "        if (len(bagian1part1) == 0):\n",
    "            hull.append((titik1, titiksampel))\n",
    "        elif (len(bagian1part1) == 1):\n",
    "            hull.append((titik1, bagian1part1[0]))\n",
    "            hull.append((bagian1part1[0], titiksampel))\n",
    "\n",
    "        if (len(bagian1part2) == 0):\n",
    "            hull.append((titik2, titiksampel))\n",
    "        elif (len(bagian1part2) == 1):\n",
    "            hull.append((titik2, bagian1part2[0]))\n",
    "            hull.append((bagian1part2[0], titiksampel))\n",
    "\n",
    "    if (len(bagian2) == 0):\n",
    "        hull.append((titik1, titik2))\n",
    "    elif (len(bagian2) == 1):\n",
    "        hull.append((titik1, bagian2[0]))\n",
    "        hull.append((bagian2[0], titik2))\n",
    "    else:\n",
    "        jarakmaxtitikkegaris = 0\n",
    "        titiksampel = bagian2[0]\n",
    "        for i in range(len(bagian2)):\n",
    "            jaraktitikkegaris = linalg.norm(np.cross(titik2-titik1, titik1-bagian2[i])) / linalg.norm(titik2-titik1)\n",
    "            if (jaraktitikkegaris >= jarakmaxtitikkegaris):\n",
    "                jarakmaxtitikkegaris = jaraktitikkegaris\n",
    "                titiksampel = bagian2[i]\n",
    "\n",
    "        bagian2part1 = []\n",
    "        bagian2part2 = []\n",
    "        for i in range(len(bagian2)):\n",
    "            if (myConvexHull.kiriatas(titik1, titiksampel, bagian2[i])):\n",
    "                bagian2part1.append(bagian2[i])\n",
    "            if (myConvexHull.kananbawah(titiksampel, titik2, bagian2[i])):\n",
    "                bagian2part2.append(bagian2[i])\n",
    "\n",
    "        if (len(bagian2part1) == 0):\n",
    "            hull.append((titik1, titiksampel))\n",
    "        elif (len(bagian2part1) == 1):\n",
    "            hull.append((titik1, bagian2part1[0]))\n",
    "            hull.append((bagian2part1[0], titiksampel))\n",
    "\n",
    "        if (len(bagian2part2) == 0):\n",
    "            hull.append((titik2, titiksampel))\n",
    "        elif (len(bagian2part2) == 1):\n",
    "            hull.append((titik2, bagian2part2[0]))\n",
    "            hull.append((bagian2part2[0], titiksampel))\n",
    "\n",
    "    for i in range(len(hull)):\n",
    "        x_values = [hull[i][0][0], hull[i][1][0]]\n",
    "        y_values = [hull[i][0][1], hull[i][1][1]]\n",
    "        plt.plot(x_values, y_values, colors[k])\n",
    "\n",
    "plt.legend()"
   ]
  }
 ],
 "metadata": {
  "interpreter": {
   "hash": "055a310f58a1ab811f7fd85f388fd7463c92f0a3a43a1e2841d1b26142fb7dc4"
  },
  "kernelspec": {
   "display_name": "Python 3.8.5 ('base')",
   "language": "python",
   "name": "python3"
  },
  "language_info": {
   "codemirror_mode": {
    "name": "ipython",
    "version": 3
   },
   "file_extension": ".py",
   "mimetype": "text/x-python",
   "name": "python",
   "nbconvert_exporter": "python",
   "pygments_lexer": "ipython3",
   "version": "3.8.5"
  },
  "orig_nbformat": 4
 },
 "nbformat": 4,
 "nbformat_minor": 2
}
